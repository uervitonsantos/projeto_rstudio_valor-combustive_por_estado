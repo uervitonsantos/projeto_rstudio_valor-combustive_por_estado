{
  "cells": [
    {
      "cell_type": "markdown",
      "metadata": {
        "id": "view-in-github",
        "colab_type": "text"
      },
      "source": [
        "<a href=\"https://colab.research.google.com/github/uervitonsantos/projeto_rstudio_valor-combustive_por_estado/blob/main/projeto_rstudio_valor_combustive_por_estadol.ipynb\" target=\"_parent\"><img src=\"https://colab.research.google.com/assets/colab-badge.svg\" alt=\"Open In Colab\"/></a>"
      ]
    },
    {
      "cell_type": "code",
      "execution_count": 1,
      "metadata": {
        "id": "3NuARivjL6q5"
      },
      "outputs": [],
      "source": [
        "%load_ext rpy2.ipython"
      ]
    },
    {
      "cell_type": "markdown",
      "metadata": {
        "id": "0ArqFQ0bvl-H"
      },
      "source": [
        "###Carregando os pacotes"
      ]
    },
    {
      "cell_type": "code",
      "execution_count": null,
      "metadata": {
        "id": "CekB60OuL8EG"
      },
      "outputs": [],
      "source": [
        "%%R\n",
        "system('sudo apt install libcairo2-dev')\n",
        "install.packages(\"devtools\")  # if not already installed\n",
        "library(devtools)\n",
        "install_git(\"https://github.com/ccolonescu/PoEdata\")\n",
        "install.packages('hrbrthemes')\n",
        "install.packages(\"tidyverse\")\n",
        "install.packages(\"janitor\")\n",
        "install.packages(\"gridExtra\")\n",
        "library(gridExtra)\n",
        "library(janitor)\n",
        "library(dplyr)\n",
        "library(tidyverse)\n",
        "library (janitor)\n",
        "library(ggplot2)\n",
        "library(hrbrthemes)"
      ]
    },
    {
      "cell_type": "markdown",
      "metadata": {
        "id": "IcVrU4kRxt1i"
      },
      "source": [
        "##Carregando os dados do DataSet"
      ]
    },
    {
      "cell_type": "code",
      "execution_count": null,
      "metadata": {
        "id": "xa37Sdc1MXSg"
      },
      "outputs": [],
      "source": [
        "%%R\n",
        "car <- read.csv(\"/content/drive/MyDrive/Colab Notebooks/DateSet/ca-2021-02-1.csv\", header = TRUE, sep = \";\")\n",
        "head(car)\n"
      ]
    },
    {
      "cell_type": "markdown",
      "metadata": {
        "id": "cPyDQ7ec68ST"
      },
      "source": [
        "###Resumo das variaves do conjunto de dados"
      ]
    },
    {
      "cell_type": "code",
      "execution_count": 4,
      "metadata": {
        "colab": {
          "base_uri": "https://localhost:8080/"
        },
        "id": "zbqLegT4sUNO",
        "outputId": "3207160f-65ae-4c29-e1d2-2477fa43975e"
      },
      "outputs": [
        {
          "output_type": "stream",
          "name": "stdout",
          "text": [
            " [1] \"Regiao...Sigla\"    \"Estado...Sigla\"    \"Municipio\"        \n",
            " [4] \"Revenda\"           \"CNPJ.da.Revenda\"   \"Nome.da.Rua\"      \n",
            " [7] \"Numero.Rua\"        \"Complemento\"       \"Bairro\"           \n",
            "[10] \"Cep\"               \"Produto\"           \"Data.da.Coleta\"   \n",
            "[13] \"Valor.de.Venda\"    \"Valor.de.Compra\"   \"Unidade.de.Medida\"\n",
            "[16] \"Bandeira\"         \n"
          ]
        }
      ],
      "source": [
        "%%R\n",
        "names(car)"
      ]
    },
    {
      "cell_type": "markdown",
      "source": [
        "###Seleção de colunas"
      ],
      "metadata": {
        "id": "jH2hsOYOJeAa"
      }
    },
    {
      "cell_type": "code",
      "execution_count": 92,
      "metadata": {
        "colab": {
          "base_uri": "https://localhost:8080/"
        },
        "id": "n89lKsg6Awma",
        "outputId": "f1b74e1b-17ef-4998-8052-55ef7778071c"
      },
      "outputs": [
        {
          "output_type": "stream",
          "name": "stdout",
          "text": [
            "             Produto Estado...Sigla Regiao...Sigla      Bandeira Valor.de.Venda\n",
            "1 GASOLINA ADITIVADA             CE             NE      IPIRANGA          5,699\n",
            "2           GASOLINA             CE             NE      IPIRANGA          5,499\n",
            "3         DIESEL S10             CE             NE      IPIRANGA          4,699\n",
            "4             ETANOL             CE             NE      IPIRANGA            5,2\n",
            "5           GASOLINA             CE             NE VIBRA ENERGIA           5,49\n",
            "6         DIESEL S10             CE             NE VIBRA ENERGIA           4,49\n"
          ]
        }
      ],
      "source": [
        "%%R\n",
        "data_car <- select(car, Produto, Estado...Sigla, Regiao...Sigla, Bandeira, Valor.de.Venda)\n",
        "head(data_car)"
      ]
    },
    {
      "cell_type": "markdown",
      "source": [
        "##Agrupamento de colunas"
      ],
      "metadata": {
        "id": "LFzmtEfABgLx"
      }
    },
    {
      "cell_type": "code",
      "source": [
        "%%R\n",
        "test1 <- data_car %>% group_by(Produto, Estado...Sigla, Bandeira) %>%\n",
        "summarise(Valor.de.Venda)\n",
        "test1"
      ],
      "metadata": {
        "id": "nZ8aosRBNK20"
      },
      "execution_count": null,
      "outputs": []
    },
    {
      "cell_type": "code",
      "source": [
        "%%R\n"
      ],
      "metadata": {
        "id": "m35uPBlLtXqa"
      },
      "execution_count": null,
      "outputs": []
    },
    {
      "cell_type": "markdown",
      "metadata": {
        "id": "x3jBVlHx9sYG"
      },
      "source": [
        "###Tabelas de frequencia"
      ]
    },
    {
      "cell_type": "code",
      "execution_count": null,
      "metadata": {
        "id": "6X3CJ_If7Xa9"
      },
      "outputs": [],
      "source": [
        "%%R \n",
        "uf <- table(test1$Produto, test1$Estado...Sigla) #frequencia absoluta\n",
        "head(uf)"
      ]
    },
    {
      "cell_type": "code",
      "execution_count": null,
      "metadata": {
        "id": "SMzRWz7b9NVV"
      },
      "outputs": [],
      "source": [
        "%%R\n",
        "fr <- 100*prop.table(uf) #frequencia relativa\n",
        "fr <- round(fr, digits=2)\n",
        "head(fr)"
      ]
    },
    {
      "cell_type": "markdown",
      "source": [
        "##Frequencia por região"
      ],
      "metadata": {
        "id": "_Y8MtvIzK-G9"
      }
    },
    {
      "cell_type": "code",
      "source": [
        "%%R \n",
        "Regiao <- table(data_car$Produto, data_car$Regiao...Sigla) #frequencia absoluta\n",
        "Regiao"
      ],
      "metadata": {
        "colab": {
          "base_uri": "https://localhost:8080/"
        },
        "id": "Y8Bn4yEMLF4y",
        "outputId": "66634b38-3ec9-4ce9-c933-f32fdc2c7dc7"
      },
      "execution_count": 10,
      "outputs": [
        {
          "output_type": "stream",
          "name": "stdout",
          "text": [
            "                    \n",
            "                        CO     N    NE     S    SE\n",
            "  DIESEL              5647  4758  7105 10755 24923\n",
            "  DIESEL S10          8453  6231 19917 17031 45437\n",
            "  ETANOL             10182  3470 20384 13244 58749\n",
            "  GASOLINA           10310  7507 21751 20516 59082\n",
            "  GASOLINA ADITIVADA  5955  4986 17373 18563 41984\n",
            "  GNV                  139    22  2198  1525  4659\n"
          ]
        }
      ]
    }
  ],
  "metadata": {
    "colab": {
      "name": "projeto_rstudio_valor-combustive_por_estadol.ipynb",
      "provenance": [],
      "collapsed_sections": [],
      "mount_file_id": "1Os_BQEej3c4x5i4oSKqScLxSg7wvpGZ3",
      "authorship_tag": "ABX9TyNYbncmS24cn1iRUDbf2Ka0",
      "include_colab_link": true
    },
    "kernelspec": {
      "display_name": "Python 3",
      "name": "python3"
    },
    "language_info": {
      "name": "python"
    }
  },
  "nbformat": 4,
  "nbformat_minor": 0
}