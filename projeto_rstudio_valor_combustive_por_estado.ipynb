{
  "cells": [
    {
      "cell_type": "markdown",
      "metadata": {
        "id": "view-in-github",
        "colab_type": "text"
      },
      "source": [
        "<a href=\"https://colab.research.google.com/github/uervitonsantos/projeto_rstudio_valor-combustive_por_estado/blob/main/projeto_rstudio_valor_combustive_por_estado.ipynb\" target=\"_parent\"><img src=\"https://colab.research.google.com/assets/colab-badge.svg\" alt=\"Open In Colab\"/></a>"
      ]
    },
    {
      "cell_type": "code",
      "execution_count": null,
      "metadata": {
        "id": "3NuARivjL6q5"
      },
      "outputs": [],
      "source": [
        "%load_ext rpy2.ipython"
      ]
    },
    {
      "cell_type": "markdown",
      "metadata": {
        "id": "0ArqFQ0bvl-H"
      },
      "source": [
        "###Carregando os pacotes"
      ]
    },
    {
      "cell_type": "code",
      "execution_count": null,
      "metadata": {
        "id": "CekB60OuL8EG"
      },
      "outputs": [],
      "source": [
        "%%R\n",
        "system('sudo apt install libcairo2-dev')\n",
        "install.packages(\"devtools\")  # if not already installed\n",
        "library(devtools)\n",
        "install_git(\"https://github.com/ccolonescu/PoEdata\")\n",
        "install.packages('hrbrthemes')\n",
        "install.packages(\"tidyverse\")\n",
        "install.packages(\"janitor\")\n",
        "install.packages(\"gridExtra\")\n",
        "library(gridExtra)\n",
        "library(janitor)\n",
        "library(dplyr)\n",
        "library(tidyverse)\n",
        "library (janitor)\n",
        "library(ggplot2)\n",
        "library(hrbrthemes)"
      ]
    },
    {
      "cell_type": "markdown",
      "metadata": {
        "id": "IcVrU4kRxt1i"
      },
      "source": [
        "##Carregando os dados do DataSet"
      ]
    },
    {
      "cell_type": "code",
      "execution_count": 36,
      "metadata": {
        "id": "xa37Sdc1MXSg",
        "colab": {
          "base_uri": "https://localhost:8080/"
        },
        "outputId": "206c5d17-e101-4984-fa50-561f7dc57f4a"
      },
      "outputs": [
        {
          "output_type": "stream",
          "name": "stdout",
          "text": [
            "  Regiao...Sigla Estado...Sigla Municipio\n",
            "1             NE             CE MARACANAU\n",
            "2             NE             CE MARACANAU\n",
            "3             NE             CE MARACANAU\n",
            "4             NE             CE MARACANAU\n",
            "5             NE             CE MARACANAU\n",
            "6             NE             CE MARACANAU\n",
            "                                       Revenda     CNPJ.da.Revenda\n",
            "1 BEZERRA & MENDES COMERCIAL DE PETRÓLEO LTDA.  05.397.086/0001-51\n",
            "2 BEZERRA & MENDES COMERCIAL DE PETRÓLEO LTDA.  05.397.086/0001-51\n",
            "3 BEZERRA & MENDES COMERCIAL DE PETRÓLEO LTDA.  05.397.086/0001-51\n",
            "4 BEZERRA & MENDES COMERCIAL DE PETRÓLEO LTDA.  05.397.086/0001-51\n",
            "5                    LUIZA GLAURIA R T MENEZES  03.602.329/0001-10\n",
            "6                    LUIZA GLAURIA R T MENEZES  03.602.329/0001-10\n",
            "                             Nome.da.Rua Numero.Rua Complemento\n",
            "1 RODOVIA MARANGUAPE - FORTALEZA - KM 06        S/N            \n",
            "2 RODOVIA MARANGUAPE - FORTALEZA - KM 06        S/N            \n",
            "3 RODOVIA MARANGUAPE - FORTALEZA - KM 06        S/N            \n",
            "4 RODOVIA MARANGUAPE - FORTALEZA - KM 06        S/N            \n",
            "5           ESTRADA FORTALEZA MARANGUAPE        S/N            \n",
            "6           ESTRADA FORTALEZA MARANGUAPE        S/N            \n",
            "                Bairro       Cep            Produto Data.da.Coleta\n",
            "1 PARQUE LUZARDO VIANA 61910-000 GASOLINA ADITIVADA     01/07/2021\n",
            "2 PARQUE LUZARDO VIANA 61910-000           GASOLINA     01/07/2021\n",
            "3 PARQUE LUZARDO VIANA 61910-000         DIESEL S10     01/07/2021\n",
            "4 PARQUE LUZARDO VIANA 61910-000             ETANOL     01/07/2021\n",
            "5               KAGADO 61901-410           GASOLINA     01/07/2021\n",
            "6               KAGADO 61901-410         DIESEL S10     01/07/2021\n",
            "  Valor.de.Venda Valor.de.Compra Unidade.de.Medida      Bandeira\n",
            "1          5,699              NA        R$ / litro      IPIRANGA\n",
            "2          5,499              NA        R$ / litro      IPIRANGA\n",
            "3          4,699              NA        R$ / litro      IPIRANGA\n",
            "4            5,2              NA        R$ / litro      IPIRANGA\n",
            "5           5,49              NA        R$ / litro VIBRA ENERGIA\n",
            "6           4,49              NA        R$ / litro VIBRA ENERGIA\n"
          ]
        }
      ],
      "source": [
        "%%R\n",
        "car <- read.csv(\"/content/drive/MyDrive/Colab Notebooks/DateSet/ca-2021-02-1.csv\", header = TRUE, sep = \";\")\n",
        "head(car)\n"
      ]
    },
    {
      "cell_type": "markdown",
      "metadata": {
        "id": "cPyDQ7ec68ST"
      },
      "source": [
        "###Resumo das variaves do conjunto de dados"
      ]
    },
    {
      "cell_type": "code",
      "execution_count": null,
      "metadata": {
        "id": "zbqLegT4sUNO",
        "colab": {
          "base_uri": "https://localhost:8080/"
        },
        "outputId": "e0352751-17d7-4f6c-de08-a05494612d0f"
      },
      "outputs": [
        {
          "output_type": "stream",
          "name": "stdout",
          "text": [
            " [1] \"Regiao...Sigla\"    \"Estado...Sigla\"    \"Municipio\"        \n",
            " [4] \"Revenda\"           \"CNPJ.da.Revenda\"   \"Nome.da.Rua\"      \n",
            " [7] \"Numero.Rua\"        \"Complemento\"       \"Bairro\"           \n",
            "[10] \"Cep\"               \"Produto\"           \"Data.da.Coleta\"   \n",
            "[13] \"Valor.de.Venda\"    \"Valor.de.Compra\"   \"Unidade.de.Medida\"\n",
            "[16] \"Bandeira\"         \n"
          ]
        }
      ],
      "source": [
        "%%R\n",
        "names(car)"
      ]
    },
    {
      "cell_type": "markdown",
      "source": [
        "###Seleção de colunas"
      ],
      "metadata": {
        "id": "jH2hsOYOJeAa"
      }
    },
    {
      "cell_type": "code",
      "execution_count": null,
      "metadata": {
        "id": "n89lKsg6Awma"
      },
      "outputs": [],
      "source": [
        "%%R\n",
        "data_car <- select(car, Produto, Estado...Sigla, Regiao...Sigla, Bandeira, Valor.de.Venda)"
      ]
    },
    {
      "cell_type": "code",
      "source": [
        "%%R\n",
        "sao_paulo <- filter(data_car, Estado...Sigla == 'SP' )"
      ],
      "metadata": {
        "id": "CWQ293h2eo3B"
      },
      "execution_count": 35,
      "outputs": []
    },
    {
      "cell_type": "markdown",
      "source": [
        "##Agrupamento de colunas"
      ],
      "metadata": {
        "id": "LFzmtEfABgLx"
      }
    },
    {
      "cell_type": "code",
      "source": [
        "%%R\n",
        "p <- data_car %>% group_by(Produto, Estado...Sigla, Regiao...Sigla, Bandeira) %>%\n",
        "summarise(Valor.de.Venda)\n",
        "p"
      ],
      "metadata": {
        "id": "nZ8aosRBNK20",
        "colab": {
          "base_uri": "https://localhost:8080/"
        },
        "outputId": "8d305a8f-069a-4098-d0ca-9543c7b2f1de"
      },
      "execution_count": null,
      "outputs": [
        {
          "output_type": "stream",
          "name": "stdout",
          "text": [
            "`summarise()` has grouped output by 'Produto', 'Estado...Sigla',\n",
            "'Regiao...Sigla', 'Bandeira'. You can override using the `.groups` argument.\n",
            "# A tibble: 472,856 × 5\n",
            "# Groups:   Produto, Estado...Sigla, Regiao...Sigla, Bandeira [1,155]\n",
            "   Produto Estado...Sigla Regiao...Sigla Bandeira Valor.de.Venda\n",
            "   <chr>   <chr>          <chr>          <chr>    <chr>         \n",
            " 1 DIESEL  AC             N              ATEM' S  6,07          \n",
            " 2 DIESEL  AC             N              ATEM' S  6,017         \n",
            " 3 DIESEL  AC             N              ATEM' S  6,17          \n",
            " 4 DIESEL  AC             N              ATEM' S  6,17          \n",
            " 5 DIESEL  AC             N              ATEM' S  6,17          \n",
            " 6 DIESEL  AC             N              ATEM' S  6,17          \n",
            " 7 DIESEL  AC             N              ATEM' S  6,17          \n",
            " 8 DIESEL  AC             N              ATEM' S  6,17          \n",
            " 9 DIESEL  AC             N              ATEM' S  6,17          \n",
            "10 DIESEL  AC             N              ATEM' S  6,17          \n",
            "# … with 472,846 more rows\n"
          ]
        }
      ]
    },
    {
      "cell_type": "markdown",
      "metadata": {
        "id": "x3jBVlHx9sYG"
      },
      "source": [
        "###Tabelas de frequencia"
      ]
    },
    {
      "cell_type": "code",
      "execution_count": null,
      "metadata": {
        "id": "6X3CJ_If7Xa9",
        "colab": {
          "base_uri": "https://localhost:8080/"
        },
        "outputId": "c7e013dd-98f5-481a-c6e3-cd1e21973990"
      },
      "outputs": [
        {
          "output_type": "stream",
          "name": "stdout",
          "text": [
            "                    \n",
            "                        AC    AL    AM    AP    BA    CE    DF    ES    GO\n",
            "  DIESEL               897   516   760   179  2573   850   502   715  2003\n",
            "  DIESEL S10           974   962  1063   136  4458  4820   735  1641  3093\n",
            "  ETANOL               491  1042   904    18  5127  4816  1002  1472  3775\n",
            "  GASOLINA             993  1110  1413   602  5136  5135  1005  1898  3888\n",
            "  GASOLINA ADITIVADA   746   843   948    70  4472  4354   859  1708  2067\n",
            "  GNV                    0   134    22     0   476   423     1   347     0\n",
            "                    \n",
            "                        MA    MG    MS    MT    PA    PB    PE    PI    PR\n",
            "  DIESEL               386  5961  1089  2053  1148   571   379   653  3076\n",
            "  DIESEL S10          1207  8097  1263  3362  1890  1329  3960  1191  5676\n",
            "  ETANOL               917 11077  1585  3820   777  1338  4029  1131  7249\n",
            "  GASOLINA            1277 11109  1576  3841  2118  1436  4233  1377  7182\n",
            "  GASOLINA ADITIVADA   946  6731  1059  1970  1420   861  2759  1156  5646\n",
            "  GNV                    0   195    67    71     0   230   527     0   131\n",
            "                    \n",
            "                        RJ    RN    RO    RR    RS    SC    SE    SP    TO\n",
            "  DIESEL              3170   885   989   239  5506  2173   292 15077   546\n",
            "  DIESEL S10          6397  1202  1099   324  6895  4460   788 29302   745\n",
            "  ETANOL              7786  1292   558    65  2649  3346   692 38414   657\n",
            "  GASOLINA            7891  1235  1265   332  8088  5246   812 38184   784\n",
            "  GASOLINA ADITIVADA  6702  1263  1034   275  8054  4863   719 26843   493\n",
            "  GNV                 2826   209     0     0   528   866   199  1291     0\n"
          ]
        }
      ],
      "source": [
        "%%R \n",
        "uf <- table(p$Produto, p$Estado...Sigla) #frequencia absoluta\n",
        "head(uf)"
      ]
    },
    {
      "cell_type": "code",
      "execution_count": null,
      "metadata": {
        "id": "SMzRWz7b9NVV",
        "colab": {
          "base_uri": "https://localhost:8080/"
        },
        "outputId": "7cde2bd2-f14e-4d27-9803-f99d766883c4"
      },
      "outputs": [
        {
          "output_type": "stream",
          "name": "stdout",
          "text": [
            "                    \n",
            "                       AC   AL   AM   AP   BA   CE   DF   ES   GO   MA   MG\n",
            "  DIESEL             0.19 0.11 0.16 0.04 0.54 0.18 0.11 0.15 0.42 0.08 1.26\n",
            "  DIESEL S10         0.21 0.20 0.22 0.03 0.94 1.02 0.16 0.35 0.65 0.26 1.71\n",
            "  ETANOL             0.10 0.22 0.19 0.00 1.08 1.02 0.21 0.31 0.80 0.19 2.34\n",
            "  GASOLINA           0.21 0.23 0.30 0.13 1.09 1.09 0.21 0.40 0.82 0.27 2.35\n",
            "  GASOLINA ADITIVADA 0.16 0.18 0.20 0.01 0.95 0.92 0.18 0.36 0.44 0.20 1.42\n",
            "  GNV                0.00 0.03 0.00 0.00 0.10 0.09 0.00 0.07 0.00 0.00 0.04\n",
            "                    \n",
            "                       MS   MT   PA   PB   PE   PI   PR   RJ   RN   RO   RR\n",
            "  DIESEL             0.23 0.43 0.24 0.12 0.08 0.14 0.65 0.67 0.19 0.21 0.05\n",
            "  DIESEL S10         0.27 0.71 0.40 0.28 0.84 0.25 1.20 1.35 0.25 0.23 0.07\n",
            "  ETANOL             0.34 0.81 0.16 0.28 0.85 0.24 1.53 1.65 0.27 0.12 0.01\n",
            "  GASOLINA           0.33 0.81 0.45 0.30 0.90 0.29 1.52 1.67 0.26 0.27 0.07\n",
            "  GASOLINA ADITIVADA 0.22 0.42 0.30 0.18 0.58 0.24 1.19 1.42 0.27 0.22 0.06\n",
            "  GNV                0.01 0.02 0.00 0.05 0.11 0.00 0.03 0.60 0.04 0.00 0.00\n",
            "                    \n",
            "                       RS   SC   SE   SP   TO\n",
            "  DIESEL             1.16 0.46 0.06 3.19 0.12\n",
            "  DIESEL S10         1.46 0.94 0.17 6.20 0.16\n",
            "  ETANOL             0.56 0.71 0.15 8.12 0.14\n",
            "  GASOLINA           1.71 1.11 0.17 8.08 0.17\n",
            "  GASOLINA ADITIVADA 1.70 1.03 0.15 5.68 0.10\n",
            "  GNV                0.11 0.18 0.04 0.27 0.00\n"
          ]
        }
      ],
      "source": [
        "%%R\n",
        "fr <- 100*prop.table(uf) #frequencia relativa\n",
        "fr <- round(fr, digits=2)\n",
        "head(fr)"
      ]
    },
    {
      "cell_type": "code",
      "source": [
        "%%R\n",
        "ggplot(p, aes(x= Estado...Sigla, y = Valor.de.Venda) + \n",
        "geom_bar(stat=\"identity\", width=.5, fill=\"tomato3\") + \n",
        "ggtitle(\"Valor do combustivel por estado\")"
      ],
      "metadata": {
        "colab": {
          "base_uri": "https://localhost:8080/",
          "height": 497
        },
        "id": "erbIrtFmQWLe",
        "outputId": "45aee912-ad3e-4f75-c917-36668e7826a5"
      },
      "execution_count": null,
      "outputs": [
        {
          "output_type": "display_data",
          "data": {
            "image/png": "[encoded data removed]"
          },
          "metadata": {}
        }
      ]
    },
    {
      "cell_type": "code",
      "source": [
        "%%R\n",
        "ggplot(sao_paulo, aes(x= Produto, y = Valor.de.Venda)) + \n",
        "geom_bar(stat=\"identity\", width=0.50, fill=\"tomato3\") + \n",
        "ggtitle(\"Valor do combustivel no estado de São Paulo\")"
      ],
      "metadata": {
        "id": "vauHMJm7fKMV",
        "outputId": "79759a26-5c88-4734-ee10-0c7a235f2d35",
        "colab": {
          "base_uri": "https://localhost:8080/",
          "height": 497
        }
      },
      "execution_count": 38,
      "outputs": [
        {
          "output_type": "display_data",
          "data": {
            "image/png": "[encoded data removed]"
          },
          "metadata": {}
        }
      ]
    }
  ],
  "metadata": {
    "colab": {
      "name": "projeto_rstudio_valor-combustive_por_estado.ipynb",
      "provenance": [],
      "collapsed_sections": [],
      "mount_file_id": "1Os_BQEej3c4x5i4oSKqScLxSg7wvpGZ3",
      "authorship_tag": "ABX9TyOyoO5OOUp4qY8rwGiRIXjK",
      "include_colab_link": true
    },
    "kernelspec": {
      "display_name": "Python 3",
      "name": "python3"
    },
    "language_info": {
      "name": "python"
    }
  },
  "nbformat": 4,
  "nbformat_minor": 0
}